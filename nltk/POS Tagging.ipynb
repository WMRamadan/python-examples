{
 "cells": [
  {
   "cell_type": "markdown",
   "metadata": {},
   "source": [
    "### POS Tagging (Part of Speech Tagging)\n",
    "This is referred to as tagging parts of a speech with word types."
   ]
  },
  {
   "cell_type": "code",
   "execution_count": 10,
   "metadata": {},
   "outputs": [],
   "source": [
    "import nltk\n",
    "from nltk.tokenize import sent_tokenize"
   ]
  },
  {
   "cell_type": "code",
   "execution_count": 11,
   "metadata": {},
   "outputs": [],
   "source": [
    "sample_text = \"This is going to be our speach. We will say whatever we want in this speach. Then it will be tokenized into sentences.\""
   ]
  },
  {
   "cell_type": "code",
   "execution_count": 12,
   "metadata": {},
   "outputs": [],
   "source": [
    "sent_tokenizer = sent_tokenize(sample_text)"
   ]
  },
  {
   "cell_type": "code",
   "execution_count": 13,
   "metadata": {},
   "outputs": [],
   "source": [
    "def process_content():\n",
    "    try:\n",
    "        for i in sent_tokenizer:\n",
    "            words = nltk.word_tokenize(i)\n",
    "            tagged = nltk.pos_tag(words, tagset='universal')\n",
    "            print(tagged)\n",
    "    except Exception as e:\n",
    "        print(str(e))"
   ]
  },
  {
   "cell_type": "code",
   "execution_count": 14,
   "metadata": {},
   "outputs": [
    {
     "name": "stdout",
     "output_type": "stream",
     "text": [
      "[('This', 'DET'), ('is', 'VERB'), ('going', 'VERB'), ('to', 'PRT'), ('be', 'VERB'), ('our', 'PRON'), ('speach', 'NOUN'), ('.', '.')]\n",
      "[('We', 'PRON'), ('will', 'VERB'), ('say', 'VERB'), ('whatever', 'DET'), ('we', 'PRON'), ('want', 'VERB'), ('in', 'ADP'), ('this', 'DET'), ('speach', 'NOUN'), ('.', '.')]\n",
      "[('Then', 'ADV'), ('it', 'PRON'), ('will', 'VERB'), ('be', 'VERB'), ('tokenized', 'VERB'), ('into', 'ADP'), ('sentences', 'NOUN'), ('.', '.')]\n"
     ]
    }
   ],
   "source": [
    "process_content()"
   ]
  },
  {
   "cell_type": "markdown",
   "metadata": {},
   "source": [
    "| Tag  | Meaning             |\n",
    "|------|---------------------|\n",
    "| ADJ  | adjective           |\n",
    "| ADP  | adposition          |\n",
    "| ADV  | adverb              |\n",
    "| CONJ | conjunction         |\n",
    "| DET  | determiner, article |\n",
    "| NOUN | noun                |\n",
    "| NUM  | numeral             |\n",
    "| PRT  | particle            |\n",
    "| PRON | pronoun             |\n",
    "| VERB | verb                |\n",
    "| .    | punctuation marks   |\n",
    "| X    | other               |"
   ]
  }
 ],
 "metadata": {
  "kernelspec": {
   "display_name": "Python 3",
   "language": "python",
   "name": "python3"
  },
  "language_info": {
   "codemirror_mode": {
    "name": "ipython",
    "version": 3
   },
   "file_extension": ".py",
   "mimetype": "text/x-python",
   "name": "python",
   "nbconvert_exporter": "python",
   "pygments_lexer": "ipython3",
   "version": "3.8.1"
  }
 },
 "nbformat": 4,
 "nbformat_minor": 4
}
